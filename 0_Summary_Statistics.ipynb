{
 "cells": [
  {
   "cell_type": "markdown",
   "metadata": {},
   "source": [
    "## Objectives\n",
    "\n",
    "This notebook file is meant to give the analysts a very quick view on what dataset they will be analyzing, what key features does the dataset perform, what are the essential events and how are they distributed and a few other key aspects digital marketing analyst/product analyst would definitely spend time investigating. \n",
    "\n",
    "**NOTE** that this file should support most types of user log files, as they are mainly in JSON format, and the characteristics we are looking at in this notebook should be consisted in all user logs since they are the grounding and fundamental features to all sorts of user-performance/behaviour analysis.   "
   ]
  },
  {
   "cell_type": "code",
   "execution_count": 1,
   "metadata": {},
   "outputs": [],
   "source": [
    "import pandas as pd\n",
    "import os\n",
    "import json\n",
    "import datetime\n",
    "import matplotlib.pyplot as plt\n",
    "%matplotlib inline"
   ]
  },
  {
   "cell_type": "code",
   "execution_count": 2,
   "metadata": {},
   "outputs": [],
   "source": [
    "def to_date(epoch):\n",
    "    return datetime.datetime.fromtimestamp(epoch/1000).strftime(\"%Y-%m-%d\")\n",
    "# first convert from milliseconds to seconds, and then convert format from time stamp"
   ]
  },
  {
   "cell_type": "code",
   "execution_count": 3,
   "metadata": {},
   "outputs": [],
   "source": [
    "# Read each line of data as JSON file \n",
    "data = []\n",
    "with open(\"data/UBA_sample_data.txt\", \"r\") as f:\n",
    "    for line in f:\n",
    "        data.append(json.loads(line))"
   ]
  },
  {
   "cell_type": "code",
   "execution_count": 4,
   "metadata": {},
   "outputs": [
    {
     "data": {
      "text/plain": [
       "75092"
      ]
     },
     "execution_count": 4,
     "metadata": {},
     "output_type": "execute_result"
    }
   ],
   "source": [
    "# check dimension of data\n",
    "len(data)"
   ]
  },
  {
   "cell_type": "code",
   "execution_count": 5,
   "metadata": {},
   "outputs": [
    {
     "name": "stdout",
     "output_type": "stream",
     "text": [
      "track               65673\n",
      "profile_set_once     9419\n",
      "Name: type, dtype: int64\n"
     ]
    }
   ],
   "source": [
    "# check type\n",
    "tp = []\n",
    "for i in range(len(data)):\n",
    "    tp.append(data[i].get(\"type\",None))\n",
    "tp = pd.DataFrame({\"type\":tp})\n",
    "print(tp[\"type\"].value_counts())"
   ]
  },
  {
   "cell_type": "markdown",
   "metadata": {},
   "source": [
    "**There are 9419 profile_set_once and 65673 track. We are interested only in the track record.**"
   ]
  },
  {
   "cell_type": "code",
   "execution_count": 6,
   "metadata": {},
   "outputs": [
    {
     "name": "stdout",
     "output_type": "stream",
     "text": [
      "$pageview                32620\n",
      "btnClick                 13866\n",
      "index_leave              10394\n",
      "demo_leave                3411\n",
      "about_leave               1032\n",
      "courses_leave              906\n",
      "formSubmit                 791\n",
      "courses_play_leave         747\n",
      "click_send_cellphone       600\n",
      "verify_cellphone_code      563\n",
      "clickSubmit                513\n",
      "page_close                 230\n",
      "Name: event, dtype: int64\n",
      "event    9419\n",
      "dtype: int64\n"
     ]
    }
   ],
   "source": [
    "# check event\n",
    "event = []\n",
    "for i in range(len(data)):\n",
    "    event.append(data[i].get(\"event\",None))\n",
    "event = pd.DataFrame({\"event\":event})\n",
    "print(event[\"event\"].value_counts())\n",
    "print(event.isnull().sum()) # 9419 entries contain null event = number of profile_set_once."
   ]
  },
  {
   "cell_type": "markdown",
   "metadata": {},
   "source": [
    "### global variable"
   ]
  },
  {
   "cell_type": "code",
   "execution_count": 7,
   "metadata": {},
   "outputs": [
    {
     "data": {
      "text/plain": [
       "dict_keys(['distinct_id', 'lib', 'properties', 'type', 'event', '_nocache', 'time'])"
      ]
     },
     "execution_count": 7,
     "metadata": {},
     "output_type": "execute_result"
    }
   ],
   "source": [
    "data[0].keys()"
   ]
  },
  {
   "cell_type": "markdown",
   "metadata": {},
   "source": [
    "- 1.distinct_id: unique identifier, for registered user:user account; for unregistered: CookieID, deviceID, etc.\n",
    "- 2.nocache: A simplied identifier for internal use\n",
    "- 3.type\n",
    "   * profile_set_once: Directly create a Profile for the user. Different from Profile Set, if User Profile exists, then this part of string would be neglected and would not cover the existed data/value. This Profile value is meant to record the FIRST EVER ACTIVATION timestamp of a user - a valid-only-once feature when user first registers.\n",
    "   * track: Record an event\n",
    "- 4.time: Exact time occuring of event, measured in miliseconds\n",
    "- 5.day: convert time to days using timestamp\n",
    "- 6.event: `$pageview`, `btnClick`, `index_leave`, `demo_leave`, `courses_leave`, `formSubmit`, `courses_play_leave`, `click_send_cellphone`, `verify_cellphone_code`, `clickSubmit`, `page_close`\n",
    "- 7.properties: contains event specific variables in a dictionary format"
   ]
  },
  {
   "cell_type": "markdown",
   "metadata": {},
   "source": [
    "### pageview"
   ]
  },
  {
   "cell_type": "code",
   "execution_count": 8,
   "metadata": {},
   "outputs": [],
   "source": [
    "# define a function for value_counts\n",
    "def count(var):\n",
    "    tp = []\n",
    "    for i in range(len(data)):\n",
    "        tp.append(data[i][\"properties\"].get(var,None))\n",
    "    tp = pd.DataFrame({var:tp})\n",
    "    return tp[var].value_counts().head(10)"
   ]
  },
  {
   "cell_type": "code",
   "execution_count": 9,
   "metadata": {},
   "outputs": [
    {
     "data": {
      "text/plain": [
       "demo             462\n",
       "zhihu            105\n",
       "itjuzi            10\n",
       "ebiz_demo_doc      5\n",
       "pedaily            5\n",
       "Name: ch, dtype: int64"
      ]
     },
     "execution_count": 9,
     "metadata": {},
     "output_type": "execute_result"
    }
   ],
   "source": [
    "count(\"ch\")"
   ]
  },
  {
   "cell_type": "code",
   "execution_count": 10,
   "metadata": {},
   "outputs": [
    {
     "name": "stdout",
     "output_type": "stream",
     "text": [
      "$pageview {'$os': 'windows', '$model': 'pc', '$os_version': '10', '$screen_height': 768, '$screen_width': 1366, '$lib': 'js', '$lib_version': '1.6.20', '$browser': 'chrome', '$browser_version': '56', '$latest_referrer': '', '$latest_referrer_host': '', '_latest_ch': 'demo', '_session_referrer': '', '_session_referrer_host': '', 'session_page_url': 'https://sensorsdata.cn/?ch=demo', '$referrer': '', '$referrer_host': '', '$url': 'https://sensorsdata.cn/?ch=demo', '$url_path': '/', '$title': '神策数据 | Sensors Data - 国内领先的用户行为分析产品', 'ch': 'demo', '$is_first_day': True, '$is_first_time': True, '$ip': '111.204.198.242'}\n",
      "page_close {'$os': 'windows', '$model': 'pc', '$os_version': '6.3', '$screen_height': 768, '$screen_width': 1366, '$lib': 'js', '$lib_version': '1.6.20', '$browser': 'chrome', '$browser_version': '56', '_session_referrer': 'https://wemart.cloud.sensorsdata.cn/user_analytics/?project=default', '_session_referrer_host': 'wemart.cloud.sensorsdata.cn', 'url_path': '/tools/code_auto/', 'pageStayTime': 11164.384, '$is_first_day': True, '$is_first_time': False, '$ip': '222.73.202.248'}\n"
     ]
    }
   ],
   "source": [
    "print(data[2][\"event\"],data[2][\"properties\"]) # $pageview\n",
    "print(data[322][\"event\"],data[322][\"properties\"]) # page_close"
   ]
  },
  {
   "cell_type": "markdown",
   "metadata": {},
   "source": [
    "    8.os : operating system    \n",
    "    9.model: type of device(pc, iphone5, etc...)    \n",
    "    10.os_version: operating system version   \n",
    "    11.browser: browser type(chrome, firefox, etc...)   \n",
    "    12.latest_referrer: latest refereral website    \n",
    "    13.latest_referrer_host : host website for latest referrel \n",
    "    14.url    \n",
    "    15.title    \n",
    "    16.is_first_day    \n",
    "    17.is_first_time    \n",
    "    18.ip\n",
    " \n",
    "    Dropped: $screen_heigh, $screen_width, $lib, $lib_version, browser_version, _session_referrer, _session_referrel_host, session_page_url, $referrer, $referrel_host, $url_path, ch, _latest_ch "
   ]
  },
  {
   "cell_type": "markdown",
   "metadata": {},
   "source": [
    "### btnclick"
   ]
  },
  {
   "cell_type": "code",
   "execution_count": 11,
   "metadata": {},
   "outputs": [
    {
     "name": "stdout",
     "output_type": "stream",
     "text": [
      "btnClick {'$os': 'windows', '$model': 'pc', '$os_version': '10', '$screen_height': 768, '$screen_width': 1366, '$lib': 'js', '$lib_version': '1.6.20', '$browser': 'chrome', '$browser_version': '56', '$latest_referrer': '', '$latest_referrer_host': '', '_latest_ch': 'demo', '_session_referrer': '', '_session_referrer_host': '', 'session_page_url': 'https://sensorsdata.cn/?ch=demo', 'pageUrl': 'https://sensorsdata.cn/?ch=demo', 'page': 'index', 'name': 'request', 'requestBtn': '2', '$is_first_day': True, '$is_first_time': False, '$ip': '111.204.198.242'}\n"
     ]
    }
   ],
   "source": [
    "print(data[3][\"event\"],data[3][\"properties\"]) # btnClick"
   ]
  },
  {
   "cell_type": "markdown",
   "metadata": {},
   "source": [
    "    19. page: previous viewed page (directed from which page)\n",
    "    20. name: name of previous viewed page\n",
    "    \n",
    "    Dropped: pageUrl, requestBtn "
   ]
  },
  {
   "cell_type": "markdown",
   "metadata": {},
   "source": [
    "### index_leave, about_leave, courses_leave, courses_play_leave, demo_leave"
   ]
  },
  {
   "cell_type": "code",
   "execution_count": 12,
   "metadata": {},
   "outputs": [
    {
     "name": "stdout",
     "output_type": "stream",
     "text": [
      "index_leave {'$os': 'windows', '$model': 'pc', '$os_version': '6.1', '$screen_height': 800, '$screen_width': 1280, '$lib': 'js', '$lib_version': '1.6.20', '$browser': 'chrome', '$browser_version': '56', '$latest_referrer': '', '$latest_referrer_host': '', '$latest_utm_source': 'baidu', '$latest_utm_medium': 'cpc', '$latest_utm_campaign': '通用词', '$latest_utm_content': '通用-用户画像', '$latest_utm_term': '用户画像', '_latest_ch': 'demo', '_session_referrer': 'https://www.baidu.com/baidu.php', '_session_referrer_host': 'www.baidu.com', 'session_page_url': 'https://www.sensorsdata.cn/?utm_source=baidu&utm_medium=cpc&utm_term=%E7%94%A8%E6%88%B7%E7%94%BB%E5%83%8F&utm_content=%E9%80%9A%E7%94%A8%2D%E7%94%A8%E6%88%B7%E7%94%BB%E5%83%8F&utm_campaign=%E9%80%9A%E7%94%A8%E8%AF%8D', 'pageUrl': 'https://sensorsdata.cn/?ch=demo', 'pageStayTime': 5.692, 'pagePosition': 2, '$is_first_day': True, '$is_first_time': False, '$ip': '219.135.131.99'}\n",
      "about_leave {'$os': 'macosx', '$model': 'mac', '$os_version': '10.12', '$screen_height': 900, '$screen_width': 1440, '$lib': 'js', '$lib_version': '1.6.20', '$browser': 'safari', '$browser_version': '10', '$latest_referrer': 'https://www.baidu.com/baidu.php', '$latest_referrer_host': 'www.baidu.com', '$latest_utm_source': 'baidu', '$latest_utm_medium': 'cpc', '$latest_utm_campaign': '品牌词', '$latest_utm_content': '品牌-神策', '$latest_utm_term': '神策', '_session_referrer': 'https://mail.alibaba-inc.com/alimail/', '_session_referrer_host': 'mail.alibaba-inc.com', 'session_page_url': 'https://www.sensorsdata.cn/courses/', 'pageUrl': 'https://www.sensorsdata.cn/about.html', 'pageStayTime': 2.256, 'pagePosition': 1, '$is_first_day': True, '$is_first_time': False, '$ip': '182.92.253.3'}\n",
      "courses_leave {'$os': 'macosx', '$model': 'mac', '$os_version': '10.12', '$screen_height': 800, '$screen_width': 1280, '$lib': 'js', '$lib_version': '1.6.20', '$browser': 'firefox', '$browser_version': '51', '$latest_referrer': 'https://www.baidu.com/baidu.php', '$latest_referrer_host': 'www.baidu.com', '$latest_utm_source': 'baidu', '$latest_utm_medium': 'cpc', '$latest_utm_campaign': '通用词', '$latest_utm_content': '通用-用户画像', '$latest_utm_term': '用户画像', '_session_referrer': 'https://www.baidu.com/baidu.php', '_session_referrer_host': 'www.baidu.com', 'session_page_url': 'https://www.sensorsdata.cn/?utm_source=baidu&utm_medium=cpc&utm_term=%E7%94%A8%E6%88%B7%E7%94%BB%E5%83%8F&utm_content=%E9%80%9A%E7%94%A8%2D%E7%94%A8%E6%88%B7%E7%94%BB%E5%83%8F&utm_campaign=%E9%80%9A%E7%94%A8%E8%AF%8D', 'pageUrl': 'https://www.sensorsdata.cn/courses/', 'pageStayTime': 642.284, 'pagePosition': 1, '$is_first_day': True, '$is_first_time': False, '$ip': '125.119.80.24'}\n",
      "courses_play_leave {'$os': 'windows', '$model': 'pc', '$os_version': '10', '$screen_height': 900, '$screen_width': 1600, '$lib': 'js', '$lib_version': '1.6.20', '$browser': 'chrome', '$browser_version': '56', '$latest_referrer': 'https://www.baidu.com/baidu.php', '$latest_referrer_host': 'www.baidu.com', '$latest_utm_source': 'baidu', '$latest_utm_medium': 'cpc', '$latest_utm_campaign': '通用词', '$latest_utm_content': '通用-数据分析', '$latest_utm_term': '大数据分析', '_session_referrer': 'https://www.baidu.com/baidu.php', '_session_referrer_host': 'www.baidu.com', 'session_page_url': 'https://www.sensorsdata.cn/?utm_source=baidu&utm_medium=cpc&utm_term=%E5%A4%A7%E6%95%B0%E6%8D%AE%E5%88%86%E6%9E%90&utm_content=%E9%80%9A%E7%94%A8%2D%E6%95%B0%E6%8D%AE%E5%88%86%E6%9E%90&utm_campaign=%E9%80%9A%E7%94%A8%E8%AF%8D', 'pageUrl': 'https://www.sensorsdata.cn/courses/play.html?v=addition', 'pageStayTime': 4.211, 'pagePosition': 1, '$is_first_day': True, '$is_first_time': False, '$ip': '180.109.58.66'}\n",
      "demo_leave {'$os': 'windows', '$model': 'pc', '$os_version': '6.1', '$screen_height': 800, '$screen_width': 1280, '$lib': 'js', '$lib_version': '1.6.20', '$browser': 'chrome', '$browser_version': '56', '$latest_referrer': 'https://www.baidu.com/baidu.php', '$latest_referrer_host': 'www.baidu.com', '$latest_utm_source': 'baidu', '$latest_utm_medium': 'cpc', '$latest_utm_campaign': '通用词', '$latest_utm_content': '通用-用户画像', '$latest_utm_term': '用户画像', '_session_referrer': 'https://www.baidu.com/baidu.php', '_session_referrer_host': 'www.baidu.com', 'session_page_url': 'https://www.sensorsdata.cn/?utm_source=baidu&utm_medium=cpc&utm_term=%E7%94%A8%E6%88%B7%E7%94%BB%E5%83%8F&utm_content=%E9%80%9A%E7%94%A8%2D%E7%94%A8%E6%88%B7%E7%94%BB%E5%83%8F&utm_campaign=%E9%80%9A%E7%94%A8%E8%AF%8D', 'pageUrl': 'https://www.sensorsdata.cn/demo.html', 'pageStayTime': 21.291, 'pagePosition': 1, '$is_first_day': True, '$is_first_time': False, '$ip': '219.135.131.99'}\n"
     ]
    }
   ],
   "source": [
    "print(data[0][\"event\"],data[0][\"properties\"]) # index_leave\n",
    "print(data[74][\"event\"],data[74][\"properties\"]) # about_leave\n",
    "print(data[188][\"event\"],data[188][\"properties\"]) # courses_leave\n",
    "print(data[460][\"event\"],data[460][\"properties\"]) # courses_play_leave\n",
    "print(data[5][\"event\"],data[5][\"properties\"]) # demo_leave"
   ]
  },
  {
   "cell_type": "markdown",
   "metadata": {},
   "source": [
    "    21.latest_utm_source: source of advertisement\n",
    "    22.latest_utm_medium: medium of advertisement\n",
    "    23.latest_utm_campaign: name of the advertisement series\n",
    "    24.latest_utm_content: contents/types of the advertisement\n",
    "    25.latest_utm_term: keywords/terms of the certain advertisement\n",
    "    26.pageStayTime: staytime on a specific page\n",
    "    27.pagePosition"
   ]
  },
  {
   "cell_type": "markdown",
   "metadata": {},
   "source": [
    "### form Submit, click submit"
   ]
  },
  {
   "cell_type": "code",
   "execution_count": 13,
   "metadata": {},
   "outputs": [
    {
     "name": "stdout",
     "output_type": "stream",
     "text": [
      "formSubmit {'$os': 'windows', '$model': 'pc', '$os_version': '6.1', '$screen_height': 900, '$screen_width': 1440, '$lib': 'js', '$lib_version': '1.6.20', '$browser': 'ie', '$browser_version': '8', '$latest_referrer': 'http://www.baidu.com/baidu.php?sc.7aTK000CsN4Tg5PoJD2RkwGeLKw1QQX_gsd5_9wivon8TF7uPKdUs4_3FnTw1N47PgPb_OAt2SvUGv1KPG8Hq2iwK4vdsILAzxmfDHP5bh4Dd0RtxtSc6ED1UtRAXR-2a0yMuRZxfnq-aPU6IRzGs-dsc3h-7iNPINYT4S', '$latest_referrer_host': 'www.baidu.com', '$latest_utm_source': 'baidu', '$latest_utm_medium': 'cpc', '$latest_utm_campaign': '通用词', '$latest_utm_content': '通用-用户画像', '$latest_utm_term': '用户画像', '_session_referrer': 'http://www.baidu.com/baidu.php?sc.7aTK000CsN4Tg5PoJD2RkwGeLKw1QQX_gsd5_9wivon8TF7uPKdUs4_3FnTw1N47PgPb_OAt2SvUGv1KPG8Hq2iwK4vdsILAzxmfDHP5bh4Dd0RtxtSc6ED1UtRAXR-2a0yMuRZxfnq-aPU6IRzGs-dsc3h-7iNPINYT4S', '_session_referrer_host': 'www.baidu.com', 'session_page_url': 'https://www.sensorsdata.cn/?utm_source=baidu&utm_medium=cpc&utm_term=%E7%94%A8%E6%88%B7%E7%94%BB%E5%83%8F&utm_content=%E9%80%9A%E7%94%A8%2D%E7%94%A8%E6%88%B7%E7%94%BB%E5%83%8F&utm_campaign=%E9%80%9A%E7%94%A8%E8%AF%8D', 'requestBtn': '10', 'isSuccess': True, 'isMsg': False, 'name': '金**', 'contact': '158********', 'verification_code': '4981', 'company': '美***', 'email': 'j***********************', 'site_url': 'https://www.sensorsdata.cn/?utm_source=baidu&utm_medium=cpc&utm_term=%E7%94%A8%E6%88%B7%E7%94%BB%E5%83%8F&utm_content=%E9%80%9A%E7%94%A8%2D%E7%94%A8%E6%88%B7%E7%94%BB%E5%83%8F&utm_campaign=%E9%80%9A%E7%94%A8%E8%AF%8D', 'from_url': 'baidu', 'referrerUrl': 'http://www.baidu.com/baidu.php?sc.7aTK000CsN4Tg5PoJD2RkwGeLKw1QQX_gsd5_9wivon8TF7uPKdUs4_3FnTw1N47PgPb_OAt2SvUGv1KPG8Hq2iwK4vdsILAzxmfDHP5bh4Dd0RtxtSc6ED1UtRAXR-2a0yMuRZxfnq-aPU6IRzGs-dsc3h-7iNPINYT4S', 'referrHostUrl': 'www.baidu.com', 'siteUrl': 'https://www.sensorsdata.cn', '$is_first_day': True, '$is_first_time': False, '$ip': '116.231.5.148'}\n",
      "clickSubmit {'$os': 'windows', '$model': 'pc', '$os_version': '10', '$screen_height': 768, '$screen_width': 1366, '$lib': 'js', '$lib_version': '1.6.20', '$browser': 'chrome', '$browser_version': '56', '$latest_referrer': '', '$latest_referrer_host': '', '_latest_ch': 'demo', '_session_referrer': '', '_session_referrer_host': '', 'session_page_url': 'https://sensorsdata.cn/?ch=demo', 'requestBtn': '2', 'name': 'y**', 'contact': '186********', 'verification_code': '9415', 'company': 'B**', 'email': 'c*************', 'site_url': 'https://sensorsdata.cn/?ch=demo', 'from_url': 'demo', '$is_first_day': True, '$is_first_time': False, '$ip': '111.204.198.242'}\n"
     ]
    }
   ],
   "source": [
    "print(data[273][\"event\"],data[273][\"properties\"]) # formsubmit\n",
    "print(data[32][\"event\"],data[32][\"properties\"]) # formsubmit"
   ]
  },
  {
   "cell_type": "markdown",
   "metadata": {},
   "source": [
    "    28.isSuccess: is the request button successful?\n",
    "    29.isMsg: is message been sent?\n",
    "    30.company"
   ]
  },
  {
   "cell_type": "markdown",
   "metadata": {},
   "source": [
    "### click_send_cellphone, verify_cellphone_code"
   ]
  },
  {
   "cell_type": "code",
   "execution_count": 14,
   "metadata": {},
   "outputs": [
    {
     "data": {
      "text/plain": [
       "ajax success    535\n",
       "正确              528\n",
       "手机号格式错误          62\n",
       "验证码错误            31\n",
       "没有该号码验证信息         4\n",
       "Name: result, dtype: int64"
      ]
     },
     "execution_count": 14,
     "metadata": {},
     "output_type": "execute_result"
    }
   ],
   "source": [
    "count(\"result\")"
   ]
  },
  {
   "cell_type": "code",
   "execution_count": 15,
   "metadata": {},
   "outputs": [
    {
     "name": "stdout",
     "output_type": "stream",
     "text": [
      "click_send_cellphone {'$os': 'windows', '$model': 'pc', '$os_version': '10', '$screen_height': 768, '$screen_width': 1366, '$lib': 'js', '$lib_version': '1.6.20', '$browser': 'chrome', '$browser_version': '56', '$latest_referrer': '', '$latest_referrer_host': '', '_latest_ch': 'demo', '_session_referrer': '', '_session_referrer_host': '', 'session_page_url': 'https://sensorsdata.cn/?ch=demo', 'info': '1**********', 'result': 'ajax success', '$is_first_day': True, '$is_first_time': False, '$ip': '111.204.198.242'}\n",
      "verify_cellphone_code {'$os': 'windows', '$model': 'pc', '$os_version': '10', '$screen_height': 768, '$screen_width': 1366, '$lib': 'js', '$lib_version': '1.6.20', '$browser': 'chrome', '$browser_version': '56', '$latest_referrer': '', '$latest_referrer_host': '', '_latest_ch': 'demo', '_session_referrer': '', '_session_referrer_host': '', 'session_page_url': 'https://sensorsdata.cn/?ch=demo', 'info': '9415', 'result': '正确', '$is_first_day': True, '$is_first_time': False, '$ip': '111.204.198.242'}\n"
     ]
    }
   ],
   "source": [
    "print(data[17][\"event\"],data[17][\"properties\"]) # click_send_cellphone\n",
    "print(data[23][\"event\"],data[23][\"properties\"]) # verify_cellphone_code"
   ]
  },
  {
   "cell_type": "markdown",
   "metadata": {},
   "source": [
    "    31. result: (手机号格式错误 - Cellphone number in wrong format，正确 - correct，ajax success, etc...)\n",
    "    \n",
    "    dropped: info\n",
    "    \n",
    "    * 验证码错误 - Wrong Verification Code\n",
    "    * 没有该号码验证信息 - Invalid Verification Info"
   ]
  },
  {
   "cell_type": "code",
   "execution_count": 16,
   "metadata": {},
   "outputs": [],
   "source": [
    "# type and event\n",
    "dist_id = []\n",
    "nocache = []\n",
    "tp = []\n",
    "time = []\n",
    "event = []\n",
    "day = []\n",
    "\n",
    "# page view\n",
    "os = []\n",
    "model = []\n",
    "os_v = []\n",
    "browser = []\n",
    "latest_r = []\n",
    "latest_rh = []\n",
    "url = []\n",
    "title = []\n",
    "first_d = []\n",
    "first_t = []\n",
    "ip = []\n",
    "\n",
    "# button click\n",
    "page = []\n",
    "name = []\n",
    "\n",
    "# leave\n",
    "latest_utm_s = []\n",
    "latest_utm_m = []\n",
    "latest_utm_campaign = []\n",
    "latest_utm_content =[]\n",
    "latest_utm_t = []\n",
    "staytime = []\n",
    "pageposition = []\n",
    "\n",
    "# form submit\n",
    "isSuccess = []\n",
    "isMsg = []\n",
    "company = []\n",
    "\n",
    "# verification\n",
    "result = []"
   ]
  },
  {
   "cell_type": "code",
   "execution_count": 17,
   "metadata": {},
   "outputs": [],
   "source": [
    "na = None\n",
    "for i in range(len(data)):\n",
    "    dist_id.append(data[i].get('distinct_id',na)) \n",
    "    tp.append(data[i].get('type',na))\n",
    "    nocache.append(data[i].get('_nocache',na)) \n",
    "    event.append(data[i].get('event',na))\n",
    "    os.append(data[i]['properties'].get('$os',na))\n",
    "    model.append(data[i]['properties'].get('$model',na))\n",
    "    os_v.append(data[i]['properties'].get('$os_version',na))\n",
    "    browser.append(data[i]['properties'].get('$browser',na))\n",
    "    latest_r.append(data[i]['properties'].get('$latest_referrer',na))\n",
    "    latest_rh.append(data[i]['properties'].get('$latest_referrer_host',na))\n",
    "    url.append(data[i]['properties'].get('$url',na))\n",
    "    title.append(data[i]['properties'].get('$title',na))\n",
    "    first_d.append(data[i]['properties'].get('$is_first_day',na))\n",
    "    first_t.append(data[i]['properties'].get('$is_first_t',na))\n",
    "    ip.append(data[i]['properties'].get('$ip',na))\n",
    "    page.append(data[i]['properties'].get('page',na))\n",
    "    name.append(data[i]['properties'].get('name',na))\n",
    "    latest_utm_s.append(data[i]['properties'].get('$latest_utm_source',na))\n",
    "    latest_utm_m.append(data[i]['properties'].get('$latest_utm_medium',na))\n",
    "    latest_utm_campaign.append(data[i]['properties'].get('$latest_utm_campaign',na))\n",
    "    latest_utm_content.append(data[i]['properties'].get('$latest_utm_content',na))\n",
    "    latest_utm_t.append(data[i]['properties'].get('$latest_utm_term',na))\n",
    "    staytime.append(data[i]['properties'].get('pageStayTime',na))\n",
    "    pageposition.append(data[i]['properties'].get('pagePosition',na))\n",
    "    isSuccess.append(data[i]['properties'].get('isSuccess',na))\n",
    "    isMsg.append(data[i]['properties'].get('isMsg',na))\n",
    "    company.append(data[i]['properties'].get('company',na))\n",
    "    result.append(data[i]['properties'].get('result',na))\n",
    "    time.append(data[i]['time'])\n",
    "    day.append(to_date(data[i]['time']))"
   ]
  },
  {
   "cell_type": "code",
   "execution_count": 18,
   "metadata": {},
   "outputs": [],
   "source": [
    "#generate pandas dataframe\n",
    "df = pd.DataFrame({\n",
    "    \"dist_id\":dist_id,\n",
    "    \"type\":tp,\n",
    "    \"nocache\":nocache,\n",
    "    \"event\":event,\n",
    "    \"os\":os,\n",
    "    \"model\":model,\n",
    "    \"os version\":os_v,\n",
    "    \"browser\":browser,\n",
    "    \"latest_r\":latest_r,\n",
    "    \"latest_rh\":latest_rh,\n",
    "    \"url\":url,\n",
    "    \"title\":title,\n",
    "    \"first_d\":first_d,\n",
    "    \"first_t\":first_t,\n",
    "    \"ip\":ip,\n",
    "    \"page\":page,\n",
    "    \"name\":name,\n",
    "    \"latest_utm_s\":latest_utm_s,\n",
    "    \"latest_utm_m\":latest_utm_m,\n",
    "    \"latest_utm_campaign\":latest_utm_campaign,\n",
    "    \"latest_utm_content\":latest_utm_content,\n",
    "    \"latest_utm_t\":latest_utm_t,\n",
    "    \"staytime\":staytime,\n",
    "    \"pageposition\":pageposition,\n",
    "    \"isSuccess\":isSuccess,\n",
    "    \"isMsg\":isMsg,\n",
    "    \"company\":company,\n",
    "    \"result\":result,\n",
    "    \"time\":time,\n",
    "    \"day\":day\n",
    "})"
   ]
  },
  {
   "cell_type": "code",
   "execution_count": 19,
   "metadata": {},
   "outputs": [
    {
     "data": {
      "text/html": [
       "<div>\n",
       "<style scoped>\n",
       "    .dataframe tbody tr th:only-of-type {\n",
       "        vertical-align: middle;\n",
       "    }\n",
       "\n",
       "    .dataframe tbody tr th {\n",
       "        vertical-align: top;\n",
       "    }\n",
       "\n",
       "    .dataframe thead th {\n",
       "        text-align: right;\n",
       "    }\n",
       "</style>\n",
       "<table border=\"1\" class=\"dataframe\">\n",
       "  <thead>\n",
       "    <tr style=\"text-align: right;\">\n",
       "      <th></th>\n",
       "      <th>browser</th>\n",
       "      <th>company</th>\n",
       "      <th>day</th>\n",
       "      <th>dist_id</th>\n",
       "      <th>event</th>\n",
       "      <th>first_d</th>\n",
       "      <th>first_t</th>\n",
       "      <th>ip</th>\n",
       "      <th>isMsg</th>\n",
       "      <th>isSuccess</th>\n",
       "      <th>...</th>\n",
       "      <th>os</th>\n",
       "      <th>os version</th>\n",
       "      <th>page</th>\n",
       "      <th>pageposition</th>\n",
       "      <th>result</th>\n",
       "      <th>staytime</th>\n",
       "      <th>time</th>\n",
       "      <th>title</th>\n",
       "      <th>type</th>\n",
       "      <th>url</th>\n",
       "    </tr>\n",
       "  </thead>\n",
       "  <tbody>\n",
       "    <tr>\n",
       "      <th>0</th>\n",
       "      <td>chrome</td>\n",
       "      <td>None</td>\n",
       "      <td>2017-03-06</td>\n",
       "      <td>595466e9a8e733434ce08de16e927d985e0b5d48</td>\n",
       "      <td>index_leave</td>\n",
       "      <td>True</td>\n",
       "      <td>None</td>\n",
       "      <td>219.135.131.99</td>\n",
       "      <td>None</td>\n",
       "      <td>None</td>\n",
       "      <td>...</td>\n",
       "      <td>windows</td>\n",
       "      <td>6.1</td>\n",
       "      <td>None</td>\n",
       "      <td>2.0</td>\n",
       "      <td>None</td>\n",
       "      <td>5.692</td>\n",
       "      <td>1488791047953</td>\n",
       "      <td>None</td>\n",
       "      <td>track</td>\n",
       "      <td>None</td>\n",
       "    </tr>\n",
       "    <tr>\n",
       "      <th>1</th>\n",
       "      <td>None</td>\n",
       "      <td>None</td>\n",
       "      <td>2017-03-31</td>\n",
       "      <td>9939d3e087bca29c42334d96dccd25ca0e06652a</td>\n",
       "      <td>None</td>\n",
       "      <td>None</td>\n",
       "      <td>None</td>\n",
       "      <td>None</td>\n",
       "      <td>None</td>\n",
       "      <td>None</td>\n",
       "      <td>...</td>\n",
       "      <td>None</td>\n",
       "      <td>None</td>\n",
       "      <td>None</td>\n",
       "      <td>NaN</td>\n",
       "      <td>None</td>\n",
       "      <td>NaN</td>\n",
       "      <td>1490958296645</td>\n",
       "      <td>None</td>\n",
       "      <td>profile_set_once</td>\n",
       "      <td>None</td>\n",
       "    </tr>\n",
       "    <tr>\n",
       "      <th>2</th>\n",
       "      <td>chrome</td>\n",
       "      <td>None</td>\n",
       "      <td>2017-03-06</td>\n",
       "      <td>9939d3e087bca29c42334d96dccd25ca0e06652a</td>\n",
       "      <td>$pageview</td>\n",
       "      <td>True</td>\n",
       "      <td>None</td>\n",
       "      <td>111.204.198.242</td>\n",
       "      <td>None</td>\n",
       "      <td>None</td>\n",
       "      <td>...</td>\n",
       "      <td>windows</td>\n",
       "      <td>10</td>\n",
       "      <td>None</td>\n",
       "      <td>NaN</td>\n",
       "      <td>None</td>\n",
       "      <td>NaN</td>\n",
       "      <td>1488791050856</td>\n",
       "      <td>神策数据 | Sensors Data - 国内领先的用户行为分析产品</td>\n",
       "      <td>track</td>\n",
       "      <td>https://sensorsdata.cn/?ch=demo</td>\n",
       "    </tr>\n",
       "    <tr>\n",
       "      <th>3</th>\n",
       "      <td>chrome</td>\n",
       "      <td>None</td>\n",
       "      <td>2017-03-06</td>\n",
       "      <td>9939d3e087bca29c42334d96dccd25ca0e06652a</td>\n",
       "      <td>btnClick</td>\n",
       "      <td>True</td>\n",
       "      <td>None</td>\n",
       "      <td>111.204.198.242</td>\n",
       "      <td>None</td>\n",
       "      <td>None</td>\n",
       "      <td>...</td>\n",
       "      <td>windows</td>\n",
       "      <td>10</td>\n",
       "      <td>index</td>\n",
       "      <td>NaN</td>\n",
       "      <td>None</td>\n",
       "      <td>NaN</td>\n",
       "      <td>1488791051772</td>\n",
       "      <td>None</td>\n",
       "      <td>track</td>\n",
       "      <td>None</td>\n",
       "    </tr>\n",
       "    <tr>\n",
       "      <th>4</th>\n",
       "      <td>chrome</td>\n",
       "      <td>None</td>\n",
       "      <td>2017-03-06</td>\n",
       "      <td>9939d3e087bca29c42334d96dccd25ca0e06652a</td>\n",
       "      <td>btnClick</td>\n",
       "      <td>True</td>\n",
       "      <td>None</td>\n",
       "      <td>111.204.198.242</td>\n",
       "      <td>None</td>\n",
       "      <td>None</td>\n",
       "      <td>...</td>\n",
       "      <td>windows</td>\n",
       "      <td>10</td>\n",
       "      <td>index</td>\n",
       "      <td>NaN</td>\n",
       "      <td>None</td>\n",
       "      <td>NaN</td>\n",
       "      <td>1488791056032</td>\n",
       "      <td>None</td>\n",
       "      <td>track</td>\n",
       "      <td>None</td>\n",
       "    </tr>\n",
       "  </tbody>\n",
       "</table>\n",
       "<p>5 rows × 30 columns</p>\n",
       "</div>"
      ],
      "text/plain": [
       "  browser company         day                                   dist_id  \\\n",
       "0  chrome    None  2017-03-06  595466e9a8e733434ce08de16e927d985e0b5d48   \n",
       "1    None    None  2017-03-31  9939d3e087bca29c42334d96dccd25ca0e06652a   \n",
       "2  chrome    None  2017-03-06  9939d3e087bca29c42334d96dccd25ca0e06652a   \n",
       "3  chrome    None  2017-03-06  9939d3e087bca29c42334d96dccd25ca0e06652a   \n",
       "4  chrome    None  2017-03-06  9939d3e087bca29c42334d96dccd25ca0e06652a   \n",
       "\n",
       "         event first_d first_t               ip isMsg isSuccess  \\\n",
       "0  index_leave    True    None   219.135.131.99  None      None   \n",
       "1         None    None    None             None  None      None   \n",
       "2    $pageview    True    None  111.204.198.242  None      None   \n",
       "3     btnClick    True    None  111.204.198.242  None      None   \n",
       "4     btnClick    True    None  111.204.198.242  None      None   \n",
       "\n",
       "                ...                      os os version   page pageposition  \\\n",
       "0               ...                 windows        6.1   None          2.0   \n",
       "1               ...                    None       None   None          NaN   \n",
       "2               ...                 windows         10   None          NaN   \n",
       "3               ...                 windows         10  index          NaN   \n",
       "4               ...                 windows         10  index          NaN   \n",
       "\n",
       "  result staytime           time                                title  \\\n",
       "0   None    5.692  1488791047953                                 None   \n",
       "1   None      NaN  1490958296645                                 None   \n",
       "2   None      NaN  1488791050856  神策数据 | Sensors Data - 国内领先的用户行为分析产品   \n",
       "3   None      NaN  1488791051772                                 None   \n",
       "4   None      NaN  1488791056032                                 None   \n",
       "\n",
       "               type                              url  \n",
       "0             track                             None  \n",
       "1  profile_set_once                             None  \n",
       "2             track  https://sensorsdata.cn/?ch=demo  \n",
       "3             track                             None  \n",
       "4             track                             None  \n",
       "\n",
       "[5 rows x 30 columns]"
      ]
     },
     "execution_count": 19,
     "metadata": {},
     "output_type": "execute_result"
    }
   ],
   "source": [
    "df.head(5)"
   ]
  },
  {
   "cell_type": "code",
   "execution_count": 20,
   "metadata": {},
   "outputs": [
    {
     "data": {
      "text/plain": [
       "(75092, 30)"
      ]
     },
     "execution_count": 20,
     "metadata": {},
     "output_type": "execute_result"
    }
   ],
   "source": [
    "df.shape # 30 variables excluding properties which are not included"
   ]
  },
  {
   "cell_type": "code",
   "execution_count": 21,
   "metadata": {},
   "outputs": [
    {
     "data": {
      "text/plain": [
       "browser                 9419\n",
       "company                73788\n",
       "day                        0\n",
       "dist_id                    0\n",
       "event                   9419\n",
       "first_d                 9419\n",
       "first_t                75092\n",
       "ip                      9419\n",
       "isMsg                  74623\n",
       "isSuccess              74301\n",
       "latest_r               10230\n",
       "latest_rh              10230\n",
       "latest_utm_campaign    35189\n",
       "latest_utm_content     36329\n",
       "latest_utm_m           35401\n",
       "latest_utm_s           34509\n",
       "latest_utm_t           35997\n",
       "model                   9419\n",
       "name                   59922\n",
       "nocache                    0\n",
       "os                      9419\n",
       "os version              9419\n",
       "page                   63376\n",
       "pageposition           58602\n",
       "result                 73929\n",
       "staytime               58372\n",
       "time                       0\n",
       "title                  42472\n",
       "type                       0\n",
       "url                    42494\n",
       "dtype: int64"
      ]
     },
     "execution_count": 21,
     "metadata": {},
     "output_type": "execute_result"
    }
   ],
   "source": [
    "# check missing values\n",
    "df.isnull().sum()"
   ]
  },
  {
   "cell_type": "code",
   "execution_count": 22,
   "metadata": {},
   "outputs": [],
   "source": [
    "# drop company since company are censored\n",
    "df = df.drop(['company'], axis = 1)"
   ]
  },
  {
   "cell_type": "code",
   "execution_count": 23,
   "metadata": {},
   "outputs": [
    {
     "data": {
      "text/html": [
       "<div>\n",
       "<style scoped>\n",
       "    .dataframe tbody tr th:only-of-type {\n",
       "        vertical-align: middle;\n",
       "    }\n",
       "\n",
       "    .dataframe tbody tr th {\n",
       "        vertical-align: top;\n",
       "    }\n",
       "\n",
       "    .dataframe thead th {\n",
       "        text-align: right;\n",
       "    }\n",
       "</style>\n",
       "<table border=\"1\" class=\"dataframe\">\n",
       "  <thead>\n",
       "    <tr style=\"text-align: right;\">\n",
       "      <th></th>\n",
       "      <th>browser</th>\n",
       "      <th>day</th>\n",
       "      <th>dist_id</th>\n",
       "      <th>event</th>\n",
       "      <th>first_d</th>\n",
       "      <th>first_t</th>\n",
       "      <th>ip</th>\n",
       "      <th>isMsg</th>\n",
       "      <th>isSuccess</th>\n",
       "      <th>latest_r</th>\n",
       "      <th>...</th>\n",
       "      <th>os</th>\n",
       "      <th>os version</th>\n",
       "      <th>page</th>\n",
       "      <th>pageposition</th>\n",
       "      <th>result</th>\n",
       "      <th>staytime</th>\n",
       "      <th>time</th>\n",
       "      <th>title</th>\n",
       "      <th>type</th>\n",
       "      <th>url</th>\n",
       "    </tr>\n",
       "  </thead>\n",
       "  <tbody>\n",
       "    <tr>\n",
       "      <th>0</th>\n",
       "      <td>chrome</td>\n",
       "      <td>2017-03-06</td>\n",
       "      <td>595466e9a8e733434ce08de16e927d985e0b5d48</td>\n",
       "      <td>index_leave</td>\n",
       "      <td>True</td>\n",
       "      <td>None</td>\n",
       "      <td>219.135.131.99</td>\n",
       "      <td>None</td>\n",
       "      <td>None</td>\n",
       "      <td></td>\n",
       "      <td>...</td>\n",
       "      <td>windows</td>\n",
       "      <td>6.1</td>\n",
       "      <td>None</td>\n",
       "      <td>2.0</td>\n",
       "      <td>None</td>\n",
       "      <td>5.692</td>\n",
       "      <td>1488791047953</td>\n",
       "      <td>None</td>\n",
       "      <td>track</td>\n",
       "      <td>None</td>\n",
       "    </tr>\n",
       "    <tr>\n",
       "      <th>1</th>\n",
       "      <td>None</td>\n",
       "      <td>2017-03-31</td>\n",
       "      <td>9939d3e087bca29c42334d96dccd25ca0e06652a</td>\n",
       "      <td>None</td>\n",
       "      <td>None</td>\n",
       "      <td>None</td>\n",
       "      <td>None</td>\n",
       "      <td>None</td>\n",
       "      <td>None</td>\n",
       "      <td>None</td>\n",
       "      <td>...</td>\n",
       "      <td>None</td>\n",
       "      <td>None</td>\n",
       "      <td>None</td>\n",
       "      <td>NaN</td>\n",
       "      <td>None</td>\n",
       "      <td>NaN</td>\n",
       "      <td>1490958296645</td>\n",
       "      <td>None</td>\n",
       "      <td>profile_set_once</td>\n",
       "      <td>None</td>\n",
       "    </tr>\n",
       "    <tr>\n",
       "      <th>2</th>\n",
       "      <td>chrome</td>\n",
       "      <td>2017-03-06</td>\n",
       "      <td>9939d3e087bca29c42334d96dccd25ca0e06652a</td>\n",
       "      <td>$pageview</td>\n",
       "      <td>True</td>\n",
       "      <td>None</td>\n",
       "      <td>111.204.198.242</td>\n",
       "      <td>None</td>\n",
       "      <td>None</td>\n",
       "      <td></td>\n",
       "      <td>...</td>\n",
       "      <td>windows</td>\n",
       "      <td>10</td>\n",
       "      <td>None</td>\n",
       "      <td>NaN</td>\n",
       "      <td>None</td>\n",
       "      <td>NaN</td>\n",
       "      <td>1488791050856</td>\n",
       "      <td>神策数据 | Sensors Data - 国内领先的用户行为分析产品</td>\n",
       "      <td>track</td>\n",
       "      <td>https://sensorsdata.cn/?ch=demo</td>\n",
       "    </tr>\n",
       "    <tr>\n",
       "      <th>3</th>\n",
       "      <td>chrome</td>\n",
       "      <td>2017-03-06</td>\n",
       "      <td>9939d3e087bca29c42334d96dccd25ca0e06652a</td>\n",
       "      <td>btnClick</td>\n",
       "      <td>True</td>\n",
       "      <td>None</td>\n",
       "      <td>111.204.198.242</td>\n",
       "      <td>None</td>\n",
       "      <td>None</td>\n",
       "      <td></td>\n",
       "      <td>...</td>\n",
       "      <td>windows</td>\n",
       "      <td>10</td>\n",
       "      <td>index</td>\n",
       "      <td>NaN</td>\n",
       "      <td>None</td>\n",
       "      <td>NaN</td>\n",
       "      <td>1488791051772</td>\n",
       "      <td>None</td>\n",
       "      <td>track</td>\n",
       "      <td>None</td>\n",
       "    </tr>\n",
       "    <tr>\n",
       "      <th>4</th>\n",
       "      <td>chrome</td>\n",
       "      <td>2017-03-06</td>\n",
       "      <td>9939d3e087bca29c42334d96dccd25ca0e06652a</td>\n",
       "      <td>btnClick</td>\n",
       "      <td>True</td>\n",
       "      <td>None</td>\n",
       "      <td>111.204.198.242</td>\n",
       "      <td>None</td>\n",
       "      <td>None</td>\n",
       "      <td></td>\n",
       "      <td>...</td>\n",
       "      <td>windows</td>\n",
       "      <td>10</td>\n",
       "      <td>index</td>\n",
       "      <td>NaN</td>\n",
       "      <td>None</td>\n",
       "      <td>NaN</td>\n",
       "      <td>1488791056032</td>\n",
       "      <td>None</td>\n",
       "      <td>track</td>\n",
       "      <td>None</td>\n",
       "    </tr>\n",
       "  </tbody>\n",
       "</table>\n",
       "<p>5 rows × 29 columns</p>\n",
       "</div>"
      ],
      "text/plain": [
       "  browser         day                                   dist_id        event  \\\n",
       "0  chrome  2017-03-06  595466e9a8e733434ce08de16e927d985e0b5d48  index_leave   \n",
       "1    None  2017-03-31  9939d3e087bca29c42334d96dccd25ca0e06652a         None   \n",
       "2  chrome  2017-03-06  9939d3e087bca29c42334d96dccd25ca0e06652a    $pageview   \n",
       "3  chrome  2017-03-06  9939d3e087bca29c42334d96dccd25ca0e06652a     btnClick   \n",
       "4  chrome  2017-03-06  9939d3e087bca29c42334d96dccd25ca0e06652a     btnClick   \n",
       "\n",
       "  first_d first_t               ip isMsg isSuccess latest_r  \\\n",
       "0    True    None   219.135.131.99  None      None            \n",
       "1    None    None             None  None      None     None   \n",
       "2    True    None  111.204.198.242  None      None            \n",
       "3    True    None  111.204.198.242  None      None            \n",
       "4    True    None  111.204.198.242  None      None            \n",
       "\n",
       "                ...                      os os version   page pageposition  \\\n",
       "0               ...                 windows        6.1   None          2.0   \n",
       "1               ...                    None       None   None          NaN   \n",
       "2               ...                 windows         10   None          NaN   \n",
       "3               ...                 windows         10  index          NaN   \n",
       "4               ...                 windows         10  index          NaN   \n",
       "\n",
       "  result staytime           time                                title  \\\n",
       "0   None    5.692  1488791047953                                 None   \n",
       "1   None      NaN  1490958296645                                 None   \n",
       "2   None      NaN  1488791050856  神策数据 | Sensors Data - 国内领先的用户行为分析产品   \n",
       "3   None      NaN  1488791051772                                 None   \n",
       "4   None      NaN  1488791056032                                 None   \n",
       "\n",
       "               type                              url  \n",
       "0             track                             None  \n",
       "1  profile_set_once                             None  \n",
       "2             track  https://sensorsdata.cn/?ch=demo  \n",
       "3             track                             None  \n",
       "4             track                             None  \n",
       "\n",
       "[5 rows x 29 columns]"
      ]
     },
     "execution_count": 23,
     "metadata": {},
     "output_type": "execute_result"
    }
   ],
   "source": [
    "df.head()"
   ]
  },
  {
   "cell_type": "markdown",
   "metadata": {},
   "source": [
    "### 1. Quick look on the EVENTS"
   ]
  },
  {
   "cell_type": "code",
   "execution_count": 24,
   "metadata": {},
   "outputs": [
    {
     "data": {
      "text/plain": [
       "$pageview                32620\n",
       "btnClick                 13866\n",
       "index_leave              10394\n",
       "demo_leave                3411\n",
       "about_leave               1032\n",
       "courses_leave              906\n",
       "formSubmit                 791\n",
       "courses_play_leave         747\n",
       "click_send_cellphone       600\n",
       "verify_cellphone_code      563\n",
       "clickSubmit                513\n",
       "page_close                 230\n",
       "Name: event, dtype: int64"
      ]
     },
     "execution_count": 24,
     "metadata": {},
     "output_type": "execute_result"
    }
   ],
   "source": [
    "df.event.value_counts()"
   ]
  },
  {
   "cell_type": "code",
   "execution_count": 25,
   "metadata": {},
   "outputs": [
    {
     "name": "stdout",
     "output_type": "stream",
     "text": [
      "42.51 % of the people who viewed the webpage clicked a button\n",
      "2.29 % of the people who viewed the webpage attempted to submit a form\n",
      "64.85 % of the people successfully registered\n"
     ]
    }
   ],
   "source": [
    "form_rate = round(747.0/32620.0, 4) * 100\n",
    "success_rate = round(513.0/791.0,4) * 100\n",
    "button_rate = round(13866.0/32620, 4) * 100\n",
    "print(\"%.2f\"% button_rate,\"%\",\"of the people who viewed the webpage clicked a button\")\n",
    "print(\"%.2f\"% form_rate,\"%\",\"of the people who viewed the webpage attempted to submit a form\")\n",
    "print(\"%.2f\"% success_rate,\"%\",\"of the people successfully registered\")"
   ]
  },
  {
   "cell_type": "markdown",
   "metadata": {},
   "source": [
    "* Funnel Analysis: To identify the bottleneck of conversion\n",
    "* Procedure:\n",
    "    View Page（浏览官网） --> Button Click（点击按钮） --> Form Submit（申请账号尝试提交） --> Click send cellphone（发送验证码） --> Verify Cellphone Code（验证码是否正确） --> Click submit (申请账号验证通过）\n",
    "* It seems that most users did not attempt to submit a form"
   ]
  },
  {
   "cell_type": "code",
   "execution_count": 26,
   "metadata": {},
   "outputs": [],
   "source": [
    "ls = [\"$pageview\",\"btnClick\",\"formSubmit\",\"click_send_cellphone\",\"verify_cellphone_code\",\"clickSubmit\"]\n",
    "funnel_df = df[df.event.isin(ls)]"
   ]
  },
  {
   "cell_type": "code",
   "execution_count": 27,
   "metadata": {},
   "outputs": [
    {
     "name": "stdout",
     "output_type": "stream",
     "text": [
      "$pageview                32620\n",
      "btnClick                 13866\n",
      "formSubmit                 791\n",
      "click_send_cellphone       600\n",
      "verify_cellphone_code      563\n",
      "clickSubmit                513\n",
      "Name: event, dtype: int64\n"
     ]
    },
    {
     "data": {
      "text/plain": [
       "<matplotlib.axes._subplots.AxesSubplot at 0x10cb08f98>"
      ]
     },
     "execution_count": 27,
     "metadata": {},
     "output_type": "execute_result"
    },
    {
     "data": {
      "image/png": "[encoded data removed]",
      "text/plain": [
       "<Figure size 432x288 with 1 Axes>"
      ]
     },
     "metadata": {},
     "output_type": "display_data"
    }
   ],
   "source": [
    "print(funnel_df.event.value_counts())\n",
    "funnel_df.event.value_counts().plot.barh()"
   ]
  },
  {
   "cell_type": "markdown",
   "metadata": {},
   "source": [
    "### 2. Quick look on the USER BROWSERS\n",
    "\n",
    "- Why? Browsers Info can enable additional information gain about user image/user action. It also yields explanations and predictions on potential user behaviours/actions. Eg. Opening page in a new tab is more likely to be observed in Chrome users, leaving the \"stay time\" and \"total time visiting\" slightly lower than the actual values since there's usually a delay in counting times (staying on a page for 2-3s, then the time-counters starts to work). While \"Safari\" users are more commonly seen as visiting a new page without opening a new tab; considering the loading time of opening a new page in \"Safari\", the actual values would be considerably lower than recorded.\n",
    "- Browsers distribution also yields user portraits as there often exists a positive correlation between the class of uers and what browser they are using. "
   ]
  },
  {
   "cell_type": "code",
   "execution_count": 28,
   "metadata": {},
   "outputs": [
    {
     "data": {
      "text/plain": [
       "chrome            42091\n",
       "safari             6952\n",
       "firefox            3775\n",
       "qq                 2973\n",
       "sogou              2779\n",
       "ie                 2254\n",
       "edge               1297\n",
       "micromessenger     1125\n",
       "uc                  866\n",
       "maxthon             316\n",
       "webview             292\n",
       "baidu               235\n",
       "theworld            153\n",
       "mi                  148\n",
       "opera                87\n",
       "na                   87\n",
       "liebao               82\n",
       "android              65\n",
       "360                  59\n",
       "tt                   28\n",
       "yandex                4\n",
       "coolnovo              4\n",
       "ali-ap                1\n",
       "Name: browser, dtype: int64"
      ]
     },
     "execution_count": 28,
     "metadata": {},
     "output_type": "execute_result"
    }
   ],
   "source": [
    "df.browser.value_counts()"
   ]
  },
  {
   "cell_type": "markdown",
   "metadata": {},
   "source": [
    "### 3. Quick look on the DISTINCT_IDS"
   ]
  },
  {
   "cell_type": "code",
   "execution_count": 29,
   "metadata": {},
   "outputs": [
    {
     "data": {
      "text/plain": [
       "835cc4405ee7e42e5b401a25e65b4830b02af7d3    254\n",
       "e78c29d1f263477389a86add3ee4c0c575886caf    212\n",
       "08ba9b365da9b395ab2a03ed1a76b97e01716a39    211\n",
       "19db3f7f99eb0f14e5ea5730fe3a936996941269    205\n",
       "0b904201f18f938733280545936a9a743480b925    199\n",
       "95cd75560edb05c1a4e097da927a5c8301e6851c    173\n",
       "66c3755db12f7aeddfc7833ba59585c6aee6d132    149\n",
       "baf6ee46757fe9f224a683c3eef4bb64f3fe10a1    147\n",
       "203d5340264bc657e4de1c529040dfb0dfafdc4a    139\n",
       "8b2fb3aed0d951fcc5f68a2201009466f872c1b5    135\n",
       "cf754597ef7701173e67b377d57645309e694ade    132\n",
       "eb3c91bdb68c3a6ccfe1a477591e89b36499e1cd    126\n",
       "ca87e1a0fd642c7287e822c5136a8a7bb23e5d2c    120\n",
       "87091bab3fc571740f15ac4021efc4c7674776d5    119\n",
       "af2c12d0b891fb24abbb0b33fd087cdfc686c72c    115\n",
       "c33e5457e3c8de3e23e6926337636784998f4257    114\n",
       "9966f1ebec4972718cd064668ca67c1efeb70686    112\n",
       "da4481a69cefe495235cc15d0eaf846376e5f8c5    110\n",
       "9b6b97ad53fc72131eeb4e068480cdd17e050cde    107\n",
       "8cf296039c6a5bb9d46a2d9d3155330924cbb4aa    106\n",
       "203024e10168f1269ea98dcc98c2a2e777cea862    106\n",
       "39c163e58761f3d607a3a5685325740a0e2b299e    103\n",
       "2d891b75f4d9dd41299a98b7f9ca59daf1e7e772    100\n",
       "af4c6fa46995d751ce98175eae908b978626c8f7     99\n",
       "822430614a4a95612699d4c24d1ea48e9bd6ee60     98\n",
       "991c028b7701e76c3bb1f2f3b9adcff4d369e52d     97\n",
       "635860733fc824705d9d0e066040738ccb429729     95\n",
       "15becb36762423d36bbf66227219b99ba09034a6     95\n",
       "07f08d78fceb0524aab2384bb57a2dcf56028f07     93\n",
       "dfa624b4eb67c64afc22b4a301b19e517c90af53     87\n",
       "                                           ... \n",
       "2d21c49a5284c41286eebf0a692dcae5e35143cf      1\n",
       "d999601ca2b34e00fdcfe9e1acb0796e8a4e4b6c      1\n",
       "348f9d9feeb8e0675d84e1957c21d40dd2e6b0f5      1\n",
       "72227017dc6fa5e5f890b0f07177442c12160ee6      1\n",
       "c7defa2c2fbac762abb43cc634b1bc0dd21cfb86      1\n",
       "4ce933d4f59a393ba6c9407d4806eab427bb0722      1\n",
       "eaf060f6b29f9df747bd08520e41b3a6d34275aa      1\n",
       "99adfd7f955fdf27e5a81978c9bd91b72e7e8f03      1\n",
       "df9cc1d2b238ce9d739070b24d026b5904e29039      1\n",
       "493e2706aaee978fa7ef2309c2725ea5fc9580df      1\n",
       "538a9b9b5b4a7d4ea4e4b1b0c630c59e6142a885      1\n",
       "02ea760c064f271505e74694a7ddddafd2b5a3b2      1\n",
       "20b73548760033f1683d10fbf1dcf78e94dd3565      1\n",
       "b520bedb682b60cd212fb5e9f6dae3c090773896      1\n",
       "ab93e59b23892be0effb7d330caef8404af782fd      1\n",
       "dbdab3a836249392f33af1b593a0ae50f2b9170d      1\n",
       "464c353aa916d00887fd890245be83780d5391e6      1\n",
       "4d202ab5675302f39ccc3884d5170aef81478a85      1\n",
       "ef026f8e4f5e577ee531ad48eebf00ebfaac9548      1\n",
       "72ec3eb4519dd95f398ea9fd090c994c768be02b      1\n",
       "ddbee1c411ab63a55fff69b220e1589b644af192      1\n",
       "3b49508f0b4616263555d3c016a6b3b81c0b0d1a      1\n",
       "c1b485e8fbb9ef444e6be7abbd186741b9dba5c6      1\n",
       "daa43a0dc2d44151b50f3ec96e44c9bbb66a5315      1\n",
       "ca8093f06fd810235ecbb5c897ea697df18da939      1\n",
       "c743a0def844c29956e090dfb2620eafd7b82b5b      1\n",
       "9bdd87b3adabe51ae01ccef85321cb8c3fc3a39d      1\n",
       "99f5956e8b3e1ebcde094fd34a0d0e6cae6acc8b      1\n",
       "ae9f10d8f1717721ed49ecb4e6ea379b33a0fc52      1\n",
       "9c492edcf19935d265451d6517219e3dfef255ed      1\n",
       "Name: dist_id, Length: 11756, dtype: int64"
      ]
     },
     "execution_count": 29,
     "metadata": {},
     "output_type": "execute_result"
    }
   ],
   "source": [
    "df.dist_id.value_counts()"
   ]
  },
  {
   "cell_type": "code",
   "execution_count": 30,
   "metadata": {},
   "outputs": [
    {
     "data": {
      "text/plain": [
       "<matplotlib.axes._subplots.AxesSubplot at 0x125fe7d68>"
      ]
     },
     "execution_count": 30,
     "metadata": {},
     "output_type": "execute_result"
    },
    {
     "data": {
      "image/png": "[encoded data removed]",
      "text/plain": [
       "<Figure size 432x288 with 1 Axes>"
      ]
     },
     "metadata": {},
     "output_type": "display_data"
    }
   ],
   "source": [
    "df.dist_id.value_counts().plot.hist()"
   ]
  },
  {
   "cell_type": "code",
   "execution_count": 31,
   "metadata": {},
   "outputs": [],
   "source": [
    "# Replace the string with the first id appearing above in your user log\n",
    "first_id = df[df.dist_id == \"835cc4405ee7e42e5b401a25e65b4830b02af7d3\"] "
   ]
  },
  {
   "cell_type": "code",
   "execution_count": 32,
   "metadata": {},
   "outputs": [
    {
     "data": {
      "text/plain": [
       "$pageview      134\n",
       "index_leave     68\n",
       "btnClick        46\n",
       "about_leave      6\n",
       "Name: event, dtype: int64"
      ]
     },
     "execution_count": 32,
     "metadata": {},
     "output_type": "execute_result"
    }
   ],
   "source": [
    "first_id.event.value_counts()"
   ]
  },
  {
   "cell_type": "markdown",
   "metadata": {},
   "source": [
    "The most active user during the week has 254 actions, including 134 page views, 68 leaving index page, 46 button clicks, and 6 about leaves. He never attempted to submit a form to view the demo page."
   ]
  },
  {
   "cell_type": "code",
   "execution_count": 33,
   "metadata": {},
   "outputs": [],
   "source": [
    "# Replace the string with the second id appearing above in your user log\n",
    "second_id = df[df.dist_id == \"e78c29d1f263477389a86add3ee4c0c575886caf\"]"
   ]
  },
  {
   "cell_type": "code",
   "execution_count": 34,
   "metadata": {},
   "outputs": [
    {
     "data": {
      "text/plain": [
       "$pageview      104\n",
       "index_leave     52\n",
       "btnClick        45\n",
       "about_leave      7\n",
       "demo_leave       2\n",
       "page_close       2\n",
       "Name: event, dtype: int64"
      ]
     },
     "execution_count": 34,
     "metadata": {},
     "output_type": "execute_result"
    }
   ],
   "source": [
    "second_id.event.value_counts()"
   ]
  },
  {
   "cell_type": "markdown",
   "metadata": {},
   "source": [
    "The most active user during the week has 212 actions, including 104 page views, 52 leaving index page, 45 button clicks, and 7 about leaves. He attempted to submit a form to view the demo page twice."
   ]
  },
  {
   "cell_type": "markdown",
   "metadata": {},
   "source": [
    "### 4. Quick look on the STAY TIME\n"
   ]
  },
  {
   "cell_type": "code",
   "execution_count": 35,
   "metadata": {},
   "outputs": [
    {
     "data": {
      "text/plain": [
       "<matplotlib.axes._subplots.AxesSubplot at 0x126206400>"
      ]
     },
     "execution_count": 35,
     "metadata": {},
     "output_type": "execute_result"
    },
    {
     "data": {
      "image/png": "[encoded data removed]",
      "text/plain": [
       "<Figure size 432x288 with 1 Axes>"
      ]
     },
     "metadata": {},
     "output_type": "display_data"
    }
   ],
   "source": [
    "df.groupby('event').staytime.mean().dropna().plot.barh()"
   ]
  },
  {
   "cell_type": "code",
   "execution_count": null,
   "metadata": {},
   "outputs": [],
   "source": []
  },
  {
   "cell_type": "code",
   "execution_count": null,
   "metadata": {},
   "outputs": [],
   "source": []
  }
 ],
 "metadata": {
  "kernelspec": {
   "display_name": "Python 3",
   "language": "python",
   "name": "python3"
  },
  "language_info": {
   "codemirror_mode": {
    "name": "ipython",
    "version": 3
   },
   "file_extension": ".py",
   "mimetype": "text/x-python",
   "name": "python",
   "nbconvert_exporter": "python",
   "pygments_lexer": "ipython3",
   "version": "3.6.5"
  }
 },
 "nbformat": 4,
 "nbformat_minor": 2
}
